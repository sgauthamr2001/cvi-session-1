{
  "nbformat": 4,
  "nbformat_minor": 0,
  "metadata": {
    "kernelspec": {
      "display_name": "Python 3",
      "language": "python",
      "name": "python3"
    },
    "language_info": {
      "codemirror_mode": {
        "name": "ipython",
        "version": 3
      },
      "file_extension": ".py",
      "mimetype": "text/x-python",
      "name": "python",
      "nbconvert_exporter": "python",
      "pygments_lexer": "ipython3",
      "version": "3.7.3"
    },
    "colab": {
      "name": "Intro_to_OpenCV.ipynb",
      "provenance": [],
      "collapsed_sections": [],
      "include_colab_link": true
    }
  },
  "cells": [
    {
      "cell_type": "markdown",
      "metadata": {
        "id": "view-in-github",
        "colab_type": "text"
      },
      "source": [
        "<a href=\"https://colab.research.google.com/github/sgauthamr2001/cvi-session-1/blob/master/Intro_to_OpenCV.ipynb\" target=\"_parent\"><img src=\"https://colab.research.google.com/assets/colab-badge.svg\" alt=\"Open In Colab\"/></a>"
      ]
    },
    {
      "cell_type": "markdown",
      "metadata": {
        "id": "EaHGz1RZbgSh"
      },
      "source": [
        "\n",
        "\n",
        "#                        Computer Vision and Intelligence Group, CFI- IIT Madras\n",
        "\n",
        "## Intro to OpenCV\n",
        "\n",
        "**What you'll learn: Colour Spaces**\n",
        "\n",
        "**What you want to achieve: Write a python program that, given an input image we convert between the colourspaces**\n",
        "\n",
        "\n"
      ]
    },
    {
      "cell_type": "code",
      "metadata": {
        "id": "sLmtgjWzsZzI"
      },
      "source": [
        "!git clone https://github.com/sgauthamr2001/cvi-session-1.git"
      ],
      "execution_count": null,
      "outputs": []
    },
    {
      "cell_type": "code",
      "metadata": {
        "id": "_sjHRHmobkI9"
      },
      "source": [
        "%cd '/content/cvi-session-1/Thresholding/src'\n",
        "!ls"
      ],
      "execution_count": null,
      "outputs": []
    },
    {
      "cell_type": "markdown",
      "metadata": {
        "id": "BEZMYly5bgSn"
      },
      "source": [
        "### Reading, Displaying and Writing an Image to a Path\n",
        "\n",
        "Functions to be used:\n",
        "\n",
        "cv2.imread(filepath, flag)  \n",
        "*flag = 0: read image in Grayscale* | *flag = 1: read image as a BGR image*\n",
        "\n",
        "cv2.imwrite(filepath, variable_name)\n",
        "*variable_name: name of variable holding the image that is to be saved*\n",
        "\n",
        "cv2.imshow(title, variable_name)\n",
        "\n",
        "cv2.waitKey(delay)\n",
        "*delay: waits for a keypress event for 'delay' ms before proceeding to next line*"
      ]
    },
    {
      "cell_type": "code",
      "metadata": {
        "id": "rJwjn8m_bgSn"
      },
      "source": [
        "# importing a few relevant packages\n",
        "\n",
        "#the numpy library contains optimised functions that are used to operate on multi-dimensional arrays \n",
        "#cv2 is an OpenCV library containing functions used in Computer Vision\n",
        "#matplotlib is a python plotting library\n",
        "\n",
        "#In this cell, we will require only the cv2 package\n",
        "import numpy as np  \n",
        "import cv2\n",
        "import matplotlib.pyplot as plt\n"
      ],
      "execution_count": 1,
      "outputs": []
    },
    {
      "cell_type": "markdown",
      "metadata": {
        "id": "3L87c3fvpYR8"
      },
      "source": [
        "# Getting Started with Images\n",
        "\n",
        "## 1) Reading an image\n",
        "\n",
        "We use the function cv2.imread() to read an image. The image should be in the **working directory** or the full path of image should be given.\n",
        "\n",
        "**Python**: \n",
        "\n",
        "```\n",
        "cv2.imread(src, flag)\n",
        "```\n",
        "\n",
        "**Parameters:**\n",
        "\n",
        "*   src – input image.\n",
        "*   flag – specifies the way image should be read.\n",
        "\n",
        "  *  cv2.IMREAD_COLOR  or 1: Loads a color image. Any transparency of image will be neglected. It is the default flag. \n",
        "  *  cv2.IMREAD_GRAYSCALE or 0 : Loads image in grayscale mode.\n",
        "\n",
        "Warning: Even if the image path is wrong, it won’t throw any error, but nothing gets stored in the image variable.\n",
        "\n",
        "## 2) Displaying an image\n",
        "\n",
        "We use the function cv2.imshow() to display an image in a window. The window automatically fits to the image size.\n",
        "\n",
        "**Python**: \n",
        "\n",
        "```\n",
        "cv2.imshow(name, img)\n",
        "```\n",
        "\n",
        "**Parameters:**\n",
        "\n",
        "*   name – window name or title.\n",
        "*   img – image to be displayed.\n",
        "\n",
        "Generally 2 more functions are used immediately after the cv2.imshow() function.\n",
        "\n",
        "**cv2.waitKey()** is a keyboard binding function. Its argument is the time in milliseconds. The function waits for specified milliseconds for any keyboard event. If you press any key in that time, the program continues. If 0 is passed, it waits indefinitely for a key stroke.\n",
        "\n",
        "**cv2.destroyAllWindows()** simply destroys all the windows we created. If you want to destroy any specific window, use the function **cv2.destroyWindow()** where you pass the exact window name as the argument.\n",
        "\n",
        "## 3) Saving an image\n",
        "\n",
        "We use the function cv2.imwrite() to save an image. This will save the image in PNG format in the working directory.\n",
        "\n",
        "**Python**: \n",
        "\n",
        "```\n",
        "cv2.imwrite(filename, img)\n",
        "```"
      ]
    },
    {
      "cell_type": "code",
      "metadata": {
        "id": "0AkUYw4vbgSo"
      },
      "source": [
        "#EXERCISE: GETTING STARTED WITH IMAGES- READING, DISPLAYING AND WRITING AN IMAGE\n",
        "\n",
        "#Using the functions described above, write a program\n",
        "#to read the image 'sample.jpg' in BGR and Grayscale separately\n",
        "#display them and save the Grayscale image as 'sample_BW.jpg'\n",
        "#NOTE: Path of sample.jpg is \"sample_imgs/sample.jpg\"; write sample_BW.jpg to the path \"sample_imgs/sample_BW.jpg\" \n",
        "img1 = #insert code#     #READING AN IMAGE, in Colour \n",
        "img2 =    #insert code#    #READING the image in Grayscale\n",
        "  \n",
        "#Insert Code#           #DISPLAYING AN IMAGE 1\n",
        "                              \n",
        "#Insert Code#      #Saving the Black and White image to the specified path\n",
        "\n",
        "cv2.waitKey(0)                           #Waits for a key press indefinitely (when argument = 0) to proceed to next line\n",
        "cv2.destroyAllWindows()\n"
      ],
      "execution_count": null,
      "outputs": []
    },
    {
      "cell_type": "markdown",
      "metadata": {
        "id": "LCqzxz4PbgSo"
      },
      "source": [
        "## Colour Spaces\n",
        "\n",
        "**A colour space is a map from a certain colour to a set of numbers (usually 8-bit in size). Different colour spaces (functions) may be advantageous for different purposes.**\n",
        "\n",
        "Let's look at a few colorspaces used commonly, .\n",
        "\n",
        "1. Grayscale\n",
        "\n",
        "\n",
        "2. BGR- Various colours are obtained by a linear combination of Blue, Green and Red values. (2^24 = 16,777,216 possibilities)\n",
        "\n",
        "    The three channels are correlated by the amount of light hitting the surface. \n",
        "\n",
        "    In BGR colour space, chrominance (colour related information) and luminance (intensity related information) tend to get mixed. This makes colour based segmentation (separation of components of the image) difficult in BGR colourspace. Also, a difference in lighting would alter the values of the three channels quite drastically.\n",
        "\n",
        "\n",
        "3. HSV- HSV images have three components:\n",
        "        a. Hue (Dominant Wavelength Information)\n",
        "        b. Saturation (Purity or shades of the colour)\n",
        "        c. Value (Intensity)\n",
        "    Since there is only one variable giving the information about the colour, it is easier to segment images based on colour in the HSV space. \n",
        "    \n",
        "4. CMYK- This colour space is mainly used in printing. The components are Cyan, Magenta, Yellow and BlacK\n"
      ]
    },
    {
      "cell_type": "markdown",
      "metadata": {
        "id": "BrpfRcpPbgSo"
      },
      "source": [
        "### Converting between Colour Spaces in OpenCV\n",
        "\n",
        "Often, we would need to use different colour spaces during image processing as certain features may be easier to extract in one colour space over another. \n",
        "\n",
        "Function:\n",
        "cv2.cvtColor(input_image, flag)\n",
        "\n",
        "*flag: Specifies the type of conversion*\n",
        "\n",
        "*cv2.COLOR_BGR2GRAY- Converts BGR image to Grayscale, the Grayscale channel value is the average of the B, G and R channel values*\n",
        "\n",
        "*cv2.COLOR_GRAY2BGR- Converts Grayscale image to BGR. The Grayscale value is simply copied to all the three channels*\n",
        "\n",
        "*cv2.COLOR_BGR2HSV*\n",
        "\n",
        "*cv2.COLOR_HSV2BGR*\n",
        "\n",
        "\n",
        "Try to write a code to convert an input image in BGR format to Grayscale and HSV, and display them, using OpenCV functions. Read the image 'hat_lady.png' from the folder 'sample_imgs'. "
      ]
    },
    {
      "cell_type": "code",
      "metadata": {
        "id": "baOJn3TVbgSp"
      },
      "source": [
        "#EXERCISE: CHANGING COLOUR SPACES\n",
        "\n",
        "#Using the functions described above, write a program\n",
        "#to read the image 'hat_lady.png' in BGR \n",
        "#convert them to GRAY and HSV, \n",
        "#use numpy slicing to store hue, saturation and value channels separately in variables\n",
        "#display all the images (except the input) in separate windows\n",
        "#NOTE: Path of hat_lady.png is \"sample_imgs/hat_lady.png\"\n",
        "\n",
        "\n",
        "img = cv2.imread('sample_imgs/hat_lady.png')   #Read Image \n",
        "  #Insert code#                         #Convert to gray\n",
        "  #Insert code#                         #Convert to HSV\n",
        "\n",
        "#Slicing the HSV image into components\n",
        "hue = img_hsv[:, :, 0]\n",
        "sat = img_hsv[:, :, 1]\n",
        "val = img_hsv[:, :, 2]\n",
        "\n",
        "        #Insert code#                     #Display gray image\n",
        "        #Insert Code#                     #Display HSV image\n",
        "\n",
        "#Displaying components of the image\n",
        "cv2.imshow('Hue', hue)\n",
        "cv2.imshow('Saturation', sat)\n",
        "cv2.imshow('Value', val)\n",
        "cv2.waitKey(0)\n",
        "cv2.destroyAllWindows()\n",
        "\n",
        "\n",
        "\n",
        "\n",
        "\n",
        "\n",
        "\n",
        "\n",
        "\n",
        "\n",
        "#We have written a program in the next cell, that you may refer in case you are stuck"
      ],
      "execution_count": null,
      "outputs": []
    }
  ]
}